{
  "nbformat": 4,
  "nbformat_minor": 0,
  "metadata": {
    "colab": {
      "provenance": []
    },
    "kernelspec": {
      "name": "python3",
      "display_name": "Python 3"
    },
    "language_info": {
      "name": "python"
    }
  },
  "cells": [
    {
      "cell_type": "code",
      "execution_count": 2,
      "metadata": {
        "colab": {
          "base_uri": "https://localhost:8080/"
        },
        "id": "7mu_0XIPN0ue",
        "outputId": "5bf28147-5339-4d9d-ff4a-7aab1ecbe956"
      },
      "outputs": [
        {
          "output_type": "stream",
          "name": "stdout",
          "text": [
            "h3ll0 w0r1d\n"
          ]
        }
      ],
      "source": [
        "print(\"h3ll0 w0r1d\")\n"
      ]
    }
  ]
}